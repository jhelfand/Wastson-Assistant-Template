{
 "cells": [
  {
   "cell_type": "markdown",
   "metadata": {
    "id": "0eC7w_p1wLDb"
   },
   "source": [
    "### Install Watson Libraries\n",
    "\n",
    "You only need to install once for your CPU.  If you are provisioning a new CPU on the cloud, you may need to install again."
   ]
  },
  {
   "cell_type": "code",
   "execution_count": null,
   "metadata": {
    "colab": {
     "base_uri": "https://localhost:8080/",
     "height": 224
    },
    "id": "WzGfvHfvvtna",
    "outputId": "9a7dadbe-1739-464a-8b5d-70341fbb07ce"
   },
   "outputs": [
    {
     "name": "stdout",
     "output_type": "stream",
     "text": [
      "Requirement already up-to-date: ibm-watson>=4.3.0 in /usr/local/lib/python3.6/dist-packages (4.4.1)\n",
      "Requirement already satisfied, skipping upgrade: python-dateutil>=2.5.3 in /usr/local/lib/python3.6/dist-packages (from ibm-watson>=4.3.0) (2.8.1)\n",
      "Requirement already satisfied, skipping upgrade: ibm-cloud-sdk-core==1.5.1 in /usr/local/lib/python3.6/dist-packages (from ibm-watson>=4.3.0) (1.5.1)\n",
      "Requirement already satisfied, skipping upgrade: requests<3.0,>=2.0 in /usr/local/lib/python3.6/dist-packages (from ibm-watson>=4.3.0) (2.23.0)\n",
      "Requirement already satisfied, skipping upgrade: websocket-client==0.48.0 in /usr/local/lib/python3.6/dist-packages (from ibm-watson>=4.3.0) (0.48.0)\n",
      "Requirement already satisfied, skipping upgrade: six>=1.5 in /usr/local/lib/python3.6/dist-packages (from python-dateutil>=2.5.3->ibm-watson>=4.3.0) (1.12.0)\n",
      "Requirement already satisfied, skipping upgrade: PyJWT>=1.7.1 in /usr/local/lib/python3.6/dist-packages (from ibm-cloud-sdk-core==1.5.1->ibm-watson>=4.3.0) (1.7.1)\n",
      "Requirement already satisfied, skipping upgrade: certifi>=2017.4.17 in /usr/local/lib/python3.6/dist-packages (from requests<3.0,>=2.0->ibm-watson>=4.3.0) (2020.4.5.1)\n",
      "Requirement already satisfied, skipping upgrade: idna<3,>=2.5 in /usr/local/lib/python3.6/dist-packages (from requests<3.0,>=2.0->ibm-watson>=4.3.0) (2.9)\n",
      "Requirement already satisfied, skipping upgrade: chardet<4,>=3.0.2 in /usr/local/lib/python3.6/dist-packages (from requests<3.0,>=2.0->ibm-watson>=4.3.0) (3.0.4)\n",
      "Requirement already satisfied, skipping upgrade: urllib3!=1.25.0,!=1.25.1,<1.26,>=1.21.1 in /usr/local/lib/python3.6/dist-packages (from requests<3.0,>=2.0->ibm-watson>=4.3.0) (1.24.3)\n"
     ]
    }
   ],
   "source": [
    "!pip install --upgrade \"ibm-watson>=4.3.0\""
   ]
  },
  {
   "cell_type": "code",
   "execution_count": null,
   "metadata": {
    "id": "J2x8F10x-ptC"
   },
   "outputs": [],
   "source": [
    "import json, os, csv\n",
    "import pandas as pd\n",
    "from ibm_watson import DiscoveryV1\n",
    "from ibm_watson import AssistantV2\n",
    "from ibm_cloud_sdk_core.authenticators import IAMAuthenticator"
   ]
  },
  {
   "cell_type": "markdown",
   "metadata": {
    "id": "9Vpxmlwsw2G3"
   },
   "source": [
    "### Add Google Drive\n",
    "\n",
    "You can store your data in Google Drives"
   ]
  },
  {
   "cell_type": "code",
   "execution_count": null,
   "metadata": {
    "colab": {
     "base_uri": "https://localhost:8080/",
     "height": 122
    },
    "id": "ln3oh5Lx-xjL",
    "outputId": "ef9d52cc-603c-4e5d-bc25-25ed3243a2f0"
   },
   "outputs": [
    {
     "name": "stdout",
     "output_type": "stream",
     "text": [
      "Go to this URL in a browser: https://accounts.google.com/o/oauth2/auth?client_id=947318989803-6bn6qk8qdgf4n4g3pfee6491hc0brc4i.apps.googleusercontent.com&redirect_uri=urn%3aietf%3awg%3aoauth%3a2.0%3aoob&response_type=code&scope=email%20https%3a%2f%2fwww.googleapis.com%2fauth%2fdocs.test%20https%3a%2f%2fwww.googleapis.com%2fauth%2fdrive%20https%3a%2f%2fwww.googleapis.com%2fauth%2fdrive.photos.readonly%20https%3a%2f%2fwww.googleapis.com%2fauth%2fpeopleapi.readonly\n",
      "\n",
      "Enter your authorization code:\n",
      "··········\n",
      "Mounted at /content/drive\n"
     ]
    }
   ],
   "source": [
    "from google.colab import drive\n",
    "drive.mount('/content/drive')"
   ]
  },
  {
   "cell_type": "markdown",
   "metadata": {
    "id": "39sGfYxExL9N"
   },
   "source": [
    "### Configure Watson Discovery and Watson Assistant\n",
    "\n",
    "1. Go to cloud.ibm.com\n",
    "2. If you have not setup, create a new IBM ID using your uci.edu email address\n",
    "3. Login using your IBM ID\n",
    "4. Click create resource and then choose AI from left menu to find Watson Assistant and Discovery Services.  In both cases, you should create a lite instance, so you can work without paying any charges.  Make sure you select Dallas as your region.\n",
    "5. Click Resource List in menu (4 horizontal bars on top left) to list all resources.  Your Watson Assistant and Discovery Services will show up under services.\n",
    "6. In each service click the service, and click Service Credentials on left to get to credentials.  Create new credentials and click add.\n",
    "7. Open credentials and copy apikey and url.  Also not date created in the credentials table,  this is the version date, written using format YYYY-mm-dd."
   ]
  },
  {
   "cell_type": "code",
   "execution_count": null,
   "metadata": {
    "id": "OVCmzsyCzIdO"
   },
   "outputs": [],
   "source": [
    "configuration_file_with_path = \"/content/drive/My Drive/covid_data/credentials_json\"\n",
    "with open(configuration_file_with_path, 'r') as infile:\n",
    "    configuration_json = json.loads(infile.read())\n",
    "discovery_apikey = configuration_json['Discovery']['apikey']\n",
    "discovery_url = configuration_json['Discovery']['url']\n",
    "discovery_version = configuration_json['Discovery']['version']\n",
    "discovery_authenticator = IAMAuthenticator(discovery_apikey)\n",
    "discovery = DiscoveryV1(\n",
    "    version= discovery_version,\n",
    "    authenticator=discovery_authenticator\n",
    ")\n",
    "\n",
    "discovery.set_service_url(discovery_url)"
   ]
  },
  {
   "cell_type": "code",
   "execution_count": null,
   "metadata": {
    "id": "H2irWjgX0KVE"
   },
   "outputs": [],
   "source": [
    "assistant_apikey = configuration_json['Watson_Assistant']['apikey']\n",
    "assistant_url = configuration_json['Watson_Assistant']['url']\n",
    "assistant_version = configuration_json['Watson_Assistant']['version']\n",
    "assistant_authenticator = IAMAuthenticator(assistant_apikey)\n",
    "assistant = AssistantV2(\n",
    "    version= assistant_version,\n",
    "    authenticator=assistant_authenticator\n",
    ")\n",
    "assistant.set_service_url(assistant_url)\n"
   ]
  },
  {
   "cell_type": "markdown",
   "metadata": {
    "id": "YvQS85ia1bvq"
   },
   "source": [
    "### Collect News using Watson Discovery\n",
    "\n",
    "If you have other sources of news, you can skip this step.  Discovery provides you a consolidated set of news for the last 60 days.  The data is also available to end users using http://news-explorer.mybluemix.net/.  Provide a query for news API.  I have chosen \"Covid 19\" in my example.\n",
    "Discovery gives you 50 news item each time.  If you need 200 items, you can use offset to call Discovery multiple times and get 200 news item.  In the example below, Discovery is called 4 times to get 200 items."
   ]
  },
  {
   "cell_type": "code",
   "execution_count": null,
   "metadata": {
    "id": "b-CQuAcX1bAb"
   },
   "outputs": [],
   "source": [
    "environments = discovery.list_environments().get_result()\n",
    "response_1 = discovery.query('system', 'news-en', natural_language_query=\"Coronavirus\", filter='country:\"US\",crawl_date:\"2020-04\"', passages = True, count=50,  offset = 0, deduplicate=True)\n",
    "response_2 = discovery.query('system', 'news-en', natural_language_query=\"Coronavirus\", filter='country:\"US\",crawl_date:\"2020-04\"', passages = True, count=50,  offset = 50, deduplicate=True)\n",
    "response_3 = discovery.query('system', 'news-en', natural_language_query=\"Coronavirus\", filter='country:\"US\",crawl_date:\"2020-04\"', passages = True, count=50,  offset = 100, deduplicate=True)\n",
    "response_4 = discovery.query('system', 'news-en', natural_language_query=\"Coronavirus\", filter='country:\"US\",crawl_date:\"2020-04\"', passages = True, count=50,  offset = 150, deduplicate=True)\n"
   ]
  },
  {
   "cell_type": "markdown",
   "metadata": {
    "id": "JMP8AiwUqu8p"
   },
   "source": [
    "### Create Training and Testing sets\n",
    "Take the 200 news items and store first 100 in training set and the other 100 in test set.  Create training and test files with the data\n"
   ]
  },
  {
   "cell_type": "code",
   "execution_count": null,
   "metadata": {
    "colab": {
     "base_uri": "https://localhost:8080/",
     "height": 51
    },
    "id": "SIEvIwly5OQ0",
    "outputId": "1eb87ce2-7861-4fd2-a3f5-f429ff03c2aa"
   },
   "outputs": [
    {
     "name": "stdout",
     "output_type": "stream",
     "text": [
      "No of training sentences:  100\n",
      "No of test sentences:  100\n"
     ]
    }
   ],
   "source": [
    "training_news_list = []\n",
    "test_news_list = []\n",
    "news_list_1 = response_1.get_result()\n",
    "news_list_2 = response_2.get_result()\n",
    "news_list_3 = response_3.get_result()\n",
    "news_list_4 = response_4.get_result()\n",
    "for news in news_list_1['results']:\n",
    "  training_news_list.append(news)\n",
    "for news in news_list_2['results']:\n",
    "  training_news_list.append(news)\n",
    "for news in news_list_3['results']:\n",
    "  test_news_list.append(news)\n",
    "for news in news_list_4['results']:\n",
    "  test_news_list.append(news)\n",
    "print(\"No of training sentences: \", len(training_news_list))\n",
    "print(\"No of test sentences: \", len(test_news_list))"
   ]
  },
  {
   "cell_type": "code",
   "execution_count": null,
   "metadata": {
    "id": "1o4kORC--ptJ"
   },
   "outputs": [],
   "source": [
    "output_training_sentence_file_with_path = '/content/drive/My Drive/covid_data/Corona_Virus_News_training_sentences.csv'\n",
    "with open(output_training_sentence_file_with_path, 'w') as sentence_file:\n",
    "    sentence_writer = csv.writer(sentence_file, delimiter=',')\n",
    "    for news in training_news_list:\n",
    "        sentence_text = news['text']\n",
    "        if len(sentence_text) > 1024:\n",
    "            sentence_text = sentence_text[0:2047]\n",
    "        clean_sentence = [sentence_text.replace('\\r', ' ').replace('\\n', ' ').replace('\\t', ' '), \"\"]   \n",
    "        sentence_writer.writerow(clean_sentence)"
   ]
  },
  {
   "cell_type": "code",
   "execution_count": null,
   "metadata": {
    "id": "xxs0TUeM-ptY"
   },
   "outputs": [],
   "source": [
    "output_test_sentence_file_with_path = '/content/drive/My Drive/covid_data/Corona_Virus_News_test_sentences.csv'\n",
    "with open(output_test_sentence_file_with_path, 'w') as sentence_file:\n",
    "    sentence_writer = csv.writer(sentence_file, delimiter=',')\n",
    "    for news in test_news_list:\n",
    "        sentence_text = news['text']\n",
    "        if len(sentence_text) > 1024:\n",
    "            sentence_text = sentence_text[0:2047]\n",
    "        clean_sentence = [sentence_text.replace('\\r', ' ').replace('\\n', ' ').replace('\\t', ' '), \"\"]   \n",
    "        sentence_writer.writerow(clean_sentence)"
   ]
  },
  {
   "cell_type": "markdown",
   "metadata": {
    "id": "wRDJ8CADrFDZ"
   },
   "source": [
    "### Create Intents\n",
    "Take the training file and label each news item with a category, using about 4-6 categories.  You may find some duplicates.  You can either remove them or tag them consistently.  If Watson discovers any duplicates, they will not be loaded and ignored.\n",
    "Take the intent file and load them into Watson as follows:\n",
    "1. Launch Assistant\n",
    "2. Create skill.\n",
    "3. Import intents\n",
    "\n",
    "Create an assistant and attach the newly created skill to the assistant.  Note down assistant ID and replace assistant_id with the ID you created.\n",
    "\n",
    "Now you are ready to test."
   ]
  },
  {
   "cell_type": "code",
   "execution_count": 4,
   "metadata": {
    "id": "TOmyWn04sKjb"
   },
   "outputs": [
    {
     "ename": "NameError",
     "evalue": "name 'assistant' is not defined",
     "output_type": "error",
     "traceback": [
      "\u001b[1;31m---------------------------------------------------------------------------\u001b[0m",
      "\u001b[1;31mNameError\u001b[0m                                 Traceback (most recent call last)",
      "\u001b[1;32m<ipython-input-4-97417e441f51>\u001b[0m in \u001b[0;36m<module>\u001b[1;34m\u001b[0m\n\u001b[0;32m      1\u001b[0m \u001b[0massistant_id\u001b[0m \u001b[1;33m=\u001b[0m \u001b[1;34m'8c3c7f2b-d9ca-4912-82e8-055c04bcf973'\u001b[0m\u001b[1;33m\u001b[0m\u001b[1;33m\u001b[0m\u001b[0m\n\u001b[1;32m----> 2\u001b[1;33m \u001b[0mresponse\u001b[0m \u001b[1;33m=\u001b[0m \u001b[0massistant\u001b[0m\u001b[1;33m.\u001b[0m\u001b[0mcreate_session\u001b[0m\u001b[1;33m(\u001b[0m\u001b[0massistant_id\u001b[0m\u001b[1;33m=\u001b[0m \u001b[0massistant_id\u001b[0m\u001b[1;33m)\u001b[0m\u001b[1;33m.\u001b[0m\u001b[0mget_result\u001b[0m\u001b[1;33m(\u001b[0m\u001b[1;33m)\u001b[0m\u001b[1;33m\u001b[0m\u001b[1;33m\u001b[0m\u001b[0m\n\u001b[0m\u001b[0;32m      3\u001b[0m \u001b[0msession_id\u001b[0m \u001b[1;33m=\u001b[0m \u001b[0mresponse\u001b[0m\u001b[1;33m[\u001b[0m\u001b[1;34m'session_id'\u001b[0m\u001b[1;33m]\u001b[0m\u001b[1;33m\u001b[0m\u001b[1;33m\u001b[0m\u001b[0m\n",
      "\u001b[1;31mNameError\u001b[0m: name 'assistant' is not defined"
     ]
    }
   ],
   "source": [
    "assistant_id = '8c3c7f2b-d9ca-4912-82e8-055c04bcf973'\n",
    "response = assistant.create_session(assistant_id= assistant_id).get_result()\n",
    "session_id = response['session_id']"
   ]
  },
  {
   "cell_type": "code",
   "execution_count": 3,
   "metadata": {
    "colab": {
     "base_uri": "https://localhost:8080/",
     "height": 51
    },
    "id": "pPhuvwnoZkzp",
    "outputId": "84359590-7a13-4f75-ca68-6477cbc4cf12"
   },
   "outputs": [
    {
     "ename": "NameError",
     "evalue": "name 'pd' is not defined",
     "output_type": "error",
     "traceback": [
      "\u001b[1;31m---------------------------------------------------------------------------\u001b[0m",
      "\u001b[1;31mNameError\u001b[0m                                 Traceback (most recent call last)",
      "\u001b[1;32m<ipython-input-3-93154a233e85>\u001b[0m in \u001b[0;36m<module>\u001b[1;34m\u001b[0m\n\u001b[1;32m----> 1\u001b[1;33m \u001b[0mpd_test_sentence\u001b[0m \u001b[1;33m=\u001b[0m \u001b[0mpd\u001b[0m\u001b[1;33m.\u001b[0m\u001b[0mread_csv\u001b[0m\u001b[1;33m(\u001b[0m\u001b[1;34m'/content/drive/My Drive/covid_data/Corona_Virus_News_test_sentences.csv'\u001b[0m\u001b[1;33m,\u001b[0m \u001b[0mheader\u001b[0m\u001b[1;33m=\u001b[0m\u001b[1;32mNone\u001b[0m\u001b[1;33m)\u001b[0m\u001b[1;33m\u001b[0m\u001b[1;33m\u001b[0m\u001b[0m\n\u001b[0m\u001b[0;32m      2\u001b[0m \u001b[0mtest_sentence_json_str\u001b[0m \u001b[1;33m=\u001b[0m \u001b[0mpd_test_sentence\u001b[0m\u001b[1;33m.\u001b[0m\u001b[0mto_json\u001b[0m\u001b[1;33m(\u001b[0m\u001b[0morient\u001b[0m\u001b[1;33m=\u001b[0m\u001b[1;34m'records'\u001b[0m\u001b[1;33m)\u001b[0m\u001b[1;33m\u001b[0m\u001b[1;33m\u001b[0m\u001b[0m\n\u001b[0;32m      3\u001b[0m \u001b[0mtest_sentence_json\u001b[0m \u001b[1;33m=\u001b[0m \u001b[0mjson\u001b[0m\u001b[1;33m.\u001b[0m\u001b[0mloads\u001b[0m\u001b[1;33m(\u001b[0m\u001b[0mtest_sentence_json_str\u001b[0m\u001b[1;33m)\u001b[0m\u001b[1;33m\u001b[0m\u001b[1;33m\u001b[0m\u001b[0m\n\u001b[0;32m      4\u001b[0m \u001b[0mtest_sentence_json\u001b[0m\u001b[1;33m[\u001b[0m\u001b[1;36m0\u001b[0m\u001b[1;33m]\u001b[0m\u001b[1;33m\u001b[0m\u001b[1;33m\u001b[0m\u001b[0m\n",
      "\u001b[1;31mNameError\u001b[0m: name 'pd' is not defined"
     ]
    }
   ],
   "source": [
    "pd_test_sentence = pd.read_csv('/content/drive/My Drive/covid_data/Corona_Virus_News_test_sentences.csv', header=None)\n",
    "test_sentence_json_str = pd_test_sentence.to_json(orient='records')\n",
    "test_sentence_json = json.loads(test_sentence_json_str)\n",
    "test_sentence_json[0]"
   ]
  },
  {
   "cell_type": "code",
   "execution_count": 2,
   "metadata": {
    "colab": {
     "base_uri": "https://localhost:8080/",
     "height": 1000
    },
    "id": "s67s0bjXQAKu",
    "outputId": "c3e461a6-796a-4f29-f0cd-7c0a96c82c94"
   },
   "outputs": [
    {
     "ename": "NameError",
     "evalue": "name 'test_sentence_json' is not defined",
     "output_type": "error",
     "traceback": [
      "\u001b[1;31m---------------------------------------------------------------------------\u001b[0m",
      "\u001b[1;31mNameError\u001b[0m                                 Traceback (most recent call last)",
      "\u001b[1;32m<ipython-input-2-2d1d1a9f2b0c>\u001b[0m in \u001b[0;36m<module>\u001b[1;34m\u001b[0m\n\u001b[0;32m      3\u001b[0m \u001b[0mcounter_end\u001b[0m \u001b[1;33m=\u001b[0m \u001b[1;36m100\u001b[0m\u001b[1;33m\u001b[0m\u001b[1;33m\u001b[0m\u001b[0m\n\u001b[0;32m      4\u001b[0m \u001b[0mcounter\u001b[0m \u001b[1;33m=\u001b[0m \u001b[0mcounter_start\u001b[0m\u001b[1;33m\u001b[0m\u001b[1;33m\u001b[0m\u001b[0m\n\u001b[1;32m----> 5\u001b[1;33m \u001b[1;32mfor\u001b[0m \u001b[0mnews\u001b[0m \u001b[1;32min\u001b[0m \u001b[0mtest_sentence_json\u001b[0m\u001b[1;33m:\u001b[0m\u001b[1;33m\u001b[0m\u001b[1;33m\u001b[0m\u001b[0m\n\u001b[0m\u001b[0;32m      6\u001b[0m   \u001b[0msentence_text\u001b[0m \u001b[1;33m=\u001b[0m \u001b[0mnews\u001b[0m\u001b[1;33m[\u001b[0m\u001b[1;34m'0'\u001b[0m\u001b[1;33m]\u001b[0m\u001b[1;33m\u001b[0m\u001b[1;33m\u001b[0m\u001b[0m\n\u001b[0;32m      7\u001b[0m   \u001b[1;32mif\u001b[0m \u001b[0mlen\u001b[0m\u001b[1;33m(\u001b[0m\u001b[0msentence_text\u001b[0m\u001b[1;33m)\u001b[0m \u001b[1;33m>\u001b[0m \u001b[1;36m2047\u001b[0m\u001b[1;33m:\u001b[0m\u001b[1;33m\u001b[0m\u001b[1;33m\u001b[0m\u001b[0m\n",
      "\u001b[1;31mNameError\u001b[0m: name 'test_sentence_json' is not defined"
     ]
    }
   ],
   "source": [
    "test_results = []\n",
    "counter_start = 0\n",
    "counter_end = 100\n",
    "counter = counter_start\n",
    "for news in test_sentence_json:\n",
    "  sentence_text = news['0']\n",
    "  if len(sentence_text) > 2047:\n",
    "    sentence_text = sentence_text[0:2047]\n",
    "  clean_sentence = sentence_text.replace('\\r', ' ').replace('\\n', ' ').replace('\\t', ' ')\n",
    "  message_response = assistant.message(assistant_id = assistant_id, \n",
    "                                       session_id = session_id, \n",
    "                                      alternate_intents = True, \n",
    "                                      input ={'message_type': 'text',\n",
    "                                              'text': clean_sentence}).get_result()\n",
    "  intent_list = message_response['output']['intents']\n",
    "  for intent in intent_list:\n",
    "    print(clean_sentence)\n",
    "    print(intent)\n",
    "    test_results.append({'sentence': clean_sentence, 'intent': intent})\n",
    "  counter = counter + 1\n",
    "  if counter > counter_end:\n",
    "    break\n"
   ]
  },
  {
   "cell_type": "code",
   "execution_count": 1,
   "metadata": {},
   "outputs": [
    {
     "ename": "NameError",
     "evalue": "name 'test_sentence_json' is not defined",
     "output_type": "error",
     "traceback": [
      "\u001b[1;31m---------------------------------------------------------------------------\u001b[0m",
      "\u001b[1;31mNameError\u001b[0m                                 Traceback (most recent call last)",
      "\u001b[1;32m<ipython-input-1-782ab8bfe216>\u001b[0m in \u001b[0;36m<module>\u001b[1;34m\u001b[0m\n\u001b[0;32m      3\u001b[0m \u001b[0mcounter_end\u001b[0m \u001b[1;33m=\u001b[0m \u001b[1;36m100\u001b[0m\u001b[1;33m\u001b[0m\u001b[1;33m\u001b[0m\u001b[0m\n\u001b[0;32m      4\u001b[0m \u001b[0mcounter\u001b[0m \u001b[1;33m=\u001b[0m \u001b[0mcounter_start\u001b[0m\u001b[1;33m\u001b[0m\u001b[1;33m\u001b[0m\u001b[0m\n\u001b[1;32m----> 5\u001b[1;33m \u001b[1;32mfor\u001b[0m \u001b[0mnews\u001b[0m \u001b[1;32min\u001b[0m \u001b[0mtest_sentence_json\u001b[0m\u001b[1;33m:\u001b[0m\u001b[1;33m\u001b[0m\u001b[1;33m\u001b[0m\u001b[0m\n\u001b[0m\u001b[0;32m      6\u001b[0m   \u001b[0msentence_text\u001b[0m \u001b[1;33m=\u001b[0m \u001b[0mnews\u001b[0m\u001b[1;33m[\u001b[0m\u001b[1;34m'0'\u001b[0m\u001b[1;33m]\u001b[0m\u001b[1;33m\u001b[0m\u001b[1;33m\u001b[0m\u001b[0m\n\u001b[0;32m      7\u001b[0m   \u001b[1;32mif\u001b[0m \u001b[0mlen\u001b[0m\u001b[1;33m(\u001b[0m\u001b[0msentence_text\u001b[0m\u001b[1;33m)\u001b[0m \u001b[1;33m>\u001b[0m \u001b[1;36m2047\u001b[0m\u001b[1;33m:\u001b[0m\u001b[1;33m\u001b[0m\u001b[1;33m\u001b[0m\u001b[0m\n",
      "\u001b[1;31mNameError\u001b[0m: name 'test_sentence_json' is not defined"
     ]
    }
   ],
   "source": [
    "test_results = []\n",
    "counter_start = 0\n",
    "counter_end = 100\n",
    "counter = counter_start\n",
    "for news in test_sentence_json:\n",
    "  sentence_text = news['0']\n",
    "  if len(sentence_text) > 2047:\n",
    "    sentence_text = sentence_text[0:2047]\n",
    "  clean_sentence = sentence_text.replace('\\r', ' ').replace('\\n', ' ').replace('\\t', ' ')\n",
    "  message_response = assistant.message(assistant_id = assistant_id, \n",
    "                                       session_id = session_id, \n",
    "                                      alternate_intents = True, \n",
    "                                      input ={'message_type': 'text',\n",
    "                                              'text': clean_sentence}).get_result()"
   ]
  },
  {
   "cell_type": "code",
   "execution_count": null,
   "metadata": {
    "id": "UiEOTJTWs_hJ"
   },
   "outputs": [],
   "source": [
    "test_results_file_path = '/content/drive/My Drive/covid_data/Corona_Virus_News_test_results.csv'\n",
    "pd_results = pd.DataFrame.from_dict(test_results)\n",
    "pd_results.to_csv(test_results_file_path)"
   ]
  }
 ],
 "metadata": {
  "colab": {
   "collapsed_sections": [],
   "name": "Assignment 2 Notebook.ipynb",
   "provenance": [],
   "toc_visible": true
  },
  "kernelspec": {
   "display_name": "Python 3",
   "language": "python",
   "name": "python3"
  },
  "language_info": {
   "codemirror_mode": {
    "name": "ipython",
    "version": 3
   },
   "file_extension": ".py",
   "mimetype": "text/x-python",
   "name": "python",
   "nbconvert_exporter": "python",
   "pygments_lexer": "ipython3",
   "version": "3.7.1"
  }
 },
 "nbformat": 4,
 "nbformat_minor": 1
}
